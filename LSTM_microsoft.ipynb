{
 "cells": [
  {
   "cell_type": "code",
   "execution_count": 2,
   "metadata": {
    "scrolled": true
   },
   "outputs": [
    {
     "name": "stderr",
     "output_type": "stream",
     "text": [
      "/home/barrel/anaconda2/lib/python2.7/site-packages/h5py/__init__.py:36: FutureWarning: Conversion of the second argument of issubdtype from `float` to `np.floating` is deprecated. In future, it will be treated as `np.float64 == np.dtype(float).type`.\n",
      "  from ._conv import register_converters as _register_converters\n",
      "Using TensorFlow backend.\n"
     ]
    }
   ],
   "source": [
    "from keras.layers.core import Dense, Activation, Dropout\n",
    "from keras.layers.recurrent import LSTM\n",
    "from keras.models import Sequential\n",
    "import time #helper libraries"
   ]
  },
  {
   "cell_type": "code",
   "execution_count": 32,
   "metadata": {},
   "outputs": [],
   "source": [
    "import time\n",
    "import warnings\n",
    "import pandas as pd\n",
    "import numpy as np\n",
    "from numpy import newaxis\n",
    "from sklearn import preprocessing\n",
    "from keras.layers.core import Dense, Activation, Dropout\n",
    "from keras.layers.recurrent import LSTM\n",
    "from keras.models import Sequential\n",
    "import matplotlib.pyplot as plt\n",
    "from keras.utils import plot_model\n",
    "from IPython.display import SVG\n",
    "from keras.utils.vis_utils import model_to_dot\n",
    "from keras.callbacks import TensorBoard \n",
    "from keras import regularizers\n",
    "from keras.layers.normalization import BatchNormalization\n",
    "from keras.layers.advanced_activations import *\n",
    "from keras.optimizers import RMSprop, Adam, SGD, Nadam\n",
    "from keras.layers import Merge\n",
    "from keras.callbacks import ModelCheckpoint, ReduceLROnPlateau, CSVLogger, EarlyStopping\n",
    "\n",
    "\n",
    "\n",
    "\n",
    "warnings.filterwarnings(\"ignore\")"
   ]
  },
  {
   "cell_type": "code",
   "execution_count": 4,
   "metadata": {},
   "outputs": [],
   "source": [
    "def normalise_windows(window_data):\n",
    "    normalised_data = []\n",
    "    for window in window_data:\n",
    "        normalised_window = [((float(p) / float(window[0])) - 1) for p in window]\n",
    "        normalised_data.append(normalised_window)\n",
    "    return normalised_data"
   ]
  },
  {
   "cell_type": "code",
   "execution_count": 46,
   "metadata": {},
   "outputs": [],
   "source": [
    "def load_data(filename, seq_len, normalise_window):\n",
    "    f=pd.read_csv(filename, delimiter = '\\t')\n",
    "    data=np.array(f)\n",
    "    data=data.astype('float')\n",
    "    data_normalize = preprocessing.normalize(data)\n",
    "    data_stand = preprocessing.scale(data_normalize)\n",
    "    \n",
    "    sequence_length = seq_len + 1\n",
    "    result = []\n",
    "    for index in range(len(data_stand) - sequence_length):\n",
    "        result.append(data_stand[index: index + sequence_length])\n",
    "    \n",
    "    \n",
    "    result = np.array(result)\n",
    "\n",
    "    row = round(0.9 * result.shape[0])\n",
    "    \n",
    "    train = result[:int(row), :]\n",
    "    np.random.shuffle(train)\n",
    "    Y = train[:,0]\n",
    "    X = train[:,1:]\n",
    "    if normalise_window:\n",
    "        r = np.array(Y)\n",
    "        normalised_data = (r-r.mean())/(r.max()-r.min())\n",
    "        Y = np.array(normalised_data)\n",
    "    \n",
    "    x_train = X[:, :-1]\n",
    "    y_train = Y[:, -16]\n",
    "    cY = result[:,0]\n",
    "    cX = result[:,1:]\n",
    "    x_test = cX[int(row):, :-1]\n",
    "    y_test = cY[int(row):, -1]\n",
    "\n",
    "    x_train = np.reshape(x_train, (x_train.shape[0], x_train.shape[1], x_train.shape[2]))\n",
    "    x_test = np.reshape(x_test, (x_test.shape[0], x_test.shape[1], x_train.shape[2]))  \n",
    "\n",
    "    return [x_train, y_train, x_test, y_test]"
   ]
  },
  {
   "cell_type": "code",
   "execution_count": 6,
   "metadata": {},
   "outputs": [],
   "source": [
    "def build_model(layers):\n",
    "    model = Sequential()\n",
    "\n",
    "    model.add(LSTM(\n",
    "        input_dim=layers[0],\n",
    "        output_dim=layers[1],\n",
    "        return_sequences=True))\n",
    "    model.add(Dropout(0.2))\n",
    "\n",
    "    model.add(LSTM(\n",
    "        layers[2],\n",
    "        return_sequences=False))\n",
    "    model.add(Dropout(0.2))\n",
    "\n",
    "    model.add(Dense(\n",
    "        output_dim=layers[3]))\n",
    "    model.add(Activation(\"linear\"))\n",
    "\n",
    "    start = time.time()\n",
    "    model.compile(loss=\"mse\", optimizer=\"rmsprop\")\n",
    "    print \"Compilation Time : \", time.time() - start\n",
    "    return model"
   ]
  },
  {
   "cell_type": "code",
   "execution_count": 15,
   "metadata": {},
   "outputs": [],
   "source": [
    "def predict_point_by_point(model, data):\n",
    "    #Predict each timestep given the last sequence of true data, in effect only predicting 1 step ahead each time\n",
    "    predicted = model.predict(data)\n",
    "    predicted = np.reshape(predicted, (predicted.size,))\n",
    "    return predicted\n",
    "\n",
    "def predict_sequence_full(model, data, window_size):\n",
    "    #Shift the window by 1 new prediction each time, re-run predictions on new window\n",
    "    curr_frame = data[0]\n",
    "    predicted = []\n",
    "    for i in xrange(len(data)):\n",
    "        predicted.append(model.predict(curr_frame[newaxis,:,:])[0,0])\n",
    "        curr_frame = curr_frame[1:]\n",
    "        curr_frame = np.insert(curr_frame, [window_size-1], predicted[-1], axis=0)\n",
    "    return predicted\n",
    "\n",
    "def predict_sequences_multiple(model, data, window_size, prediction_len):\n",
    "    #Predict sequence of 50 steps before shifting prediction run forward by 50 steps\n",
    "    prediction_seqs = []\n",
    "    for i in xrange(len(data)/prediction_len):\n",
    "        curr_frame = data[i*prediction_len]\n",
    "        predicted = []\n",
    "        for j in xrange(prediction_len):\n",
    "            predicted.append(model.predict(curr_frame[newaxis,:,:])[0,0])\n",
    "            curr_frame = curr_frame[1:]\n",
    "            curr_frame = np.insert(curr_frame, [window_size-1], predicted[-1], axis=0)\n",
    "        prediction_seqs.append(predicted)\n",
    "    return prediction_seqs"
   ]
  },
  {
   "cell_type": "code",
   "execution_count": 17,
   "metadata": {},
   "outputs": [],
   "source": [
    "def plot_results_multiple(predicted_data, true_data, prediction_len):\n",
    "    fig = plt.figure(facecolor='white')\n",
    "    ax = fig.add_subplot(111)\n",
    "    ax.plot(true_data, label='True Data')\n",
    "    print 'yo'\n",
    "    #Pad the list of predictions to shift it in the graph to it's correct start\n",
    "    for i, data in enumerate(predicted_data):\n",
    "        padding = [None for p in xrange(i * prediction_len)]\n",
    "        padding = np.array(padding)\n",
    "        padding = padding.astype('float')\n",
    "        plt.plot(padding + data, label='Prediction')\n",
    "        plt.legend()\n",
    "    plt.show()"
   ]
  },
  {
   "cell_type": "code",
   "execution_count": 47,
   "metadata": {},
   "outputs": [],
   "source": [
    "#Step 1 Load Data\n",
    "X_train, y_train, X_test, y_test = load_data('msft2.csv', 50, False)"
   ]
  },
  {
   "cell_type": "code",
   "execution_count": 49,
   "metadata": {},
   "outputs": [
    {
     "data": {
      "image/png": "[encoded data removed]",
      "text/plain": [
       "<matplotlib.figure.Figure at 0x7f7124c3ef90>"
      ]
     },
     "metadata": {},
     "output_type": "display_data"
    }
   ],
   "source": [
    "plt.plot(y_train, color='black', label = 'Train data')\n",
    "plt.show()"
   ]
  },
  {
   "cell_type": "code",
   "execution_count": 50,
   "metadata": {},
   "outputs": [
    {
     "name": "stdout",
     "output_type": "stream",
     "text": [
      "compilation time :  0.0133328437805\n"
     ]
    }
   ],
   "source": [
    "#Step 2 Build Model\n",
    "model = Sequential()\n",
    "\n",
    "model.add(LSTM(\n",
    "    input_dim=16,\n",
    "    output_dim=800,\n",
    "    return_sequences=True))\n",
    "model.add(Dropout(0.2))\n",
    "\n",
    "model.add(LSTM(\n",
    "    1600,\n",
    "    return_sequences=False))\n",
    "model.add(Dropout(0.2))\n",
    "model.add(LeakyReLU())\n",
    "\n",
    "model.add(Dense(\n",
    "    output_dim=1))\n",
    "model.add(Activation('linear'))\n",
    "\n",
    "\n",
    "start = time.time()\n",
    "model.compile(loss='mse', optimizer='rmsprop',)\n",
    "print 'compilation time : ', time.time() - start"
   ]
  },
  {
   "cell_type": "code",
   "execution_count": 51,
   "metadata": {
    "scrolled": true
   },
   "outputs": [
    {
     "name": "stdout",
     "output_type": "stream",
     "text": [
      "Train on 4253 samples, validate on 224 samples\n",
      "Epoch 1/2\n",
      "4253/4253 [==============================] - 272s 64ms/step - loss: 20.1616 - val_loss: 1.1120\n",
      "Epoch 2/2\n",
      "4253/4253 [==============================] - 248s 58ms/step - loss: 0.8339 - val_loss: 0.7868\n"
     ]
    }
   ],
   "source": [
    "#Step 3 Train the model\n",
    "tensorboard=TensorBoard(log_dir='./logs3', write_graph=True)\n",
    "history = model.fit(\n",
    "                    X_train,\n",
    "                    y_train,\n",
    "                    batch_size=512,\n",
    "                    nb_epoch=2,\n",
    "                    validation_split=0.05,\n",
    "                    callbacks=[tensorboard])\n"
   ]
  },
  {
   "cell_type": "code",
   "execution_count": 52,
   "metadata": {},
   "outputs": [
    {
     "ename": "NameError",
     "evalue": "name 'FROM' is not defined",
     "output_type": "error",
     "traceback": [
      "\u001b[0;31m---------------------------------------------------------------------------\u001b[0m",
      "\u001b[0;31mNameError\u001b[0m                                 Traceback (most recent call last)",
      "\u001b[0;32m<ipython-input-52-c722028ddd98>\u001b[0m in \u001b[0;36m<module>\u001b[0;34m()\u001b[0m\n\u001b[1;32m      4\u001b[0m \u001b[0mplt\u001b[0m\u001b[0;34m.\u001b[0m\u001b[0mplot\u001b[0m\u001b[0;34m(\u001b[0m\u001b[0mpredicted\u001b[0m\u001b[0;34m,\u001b[0m \u001b[0mcolor\u001b[0m\u001b[0;34m=\u001b[0m\u001b[0;34m'blue'\u001b[0m\u001b[0;34m,\u001b[0m \u001b[0mlabel\u001b[0m \u001b[0;34m=\u001b[0m \u001b[0;34m'Predicted data'\u001b[0m\u001b[0;34m)\u001b[0m\u001b[0;34m\u001b[0m\u001b[0m\n\u001b[1;32m      5\u001b[0m \u001b[0mplt\u001b[0m\u001b[0;34m.\u001b[0m\u001b[0mlegend\u001b[0m\u001b[0;34m(\u001b[0m\u001b[0mloc\u001b[0m\u001b[0;34m=\u001b[0m\u001b[0;34m'best'\u001b[0m\u001b[0;34m)\u001b[0m\u001b[0;34m\u001b[0m\u001b[0m\n\u001b[0;32m----> 6\u001b[0;31m \u001b[0mplt\u001b[0m\u001b[0;34m.\u001b[0m\u001b[0mtitle\u001b[0m\u001b[0;34m(\u001b[0m\u001b[0;34m'Actual and predicted from point %d to point %d of test set'\u001b[0m \u001b[0;34m%\u001b[0m \u001b[0;34m(\u001b[0m\u001b[0mFROM\u001b[0m\u001b[0;34m,\u001b[0m \u001b[0mTO\u001b[0m\u001b[0;34m)\u001b[0m\u001b[0;34m)\u001b[0m\u001b[0;34m\u001b[0m\u001b[0m\n\u001b[0m\u001b[1;32m      7\u001b[0m \u001b[0mplt\u001b[0m\u001b[0;34m.\u001b[0m\u001b[0mshow\u001b[0m\u001b[0;34m(\u001b[0m\u001b[0;34m)\u001b[0m\u001b[0;34m\u001b[0m\u001b[0m\n",
      "\u001b[0;31mNameError\u001b[0m: name 'FROM' is not defined"
     ]
    },
    {
     "data": {
      "image/png": "[encoded data removed]",
      "text/plain": [
       "<matplotlib.figure.Figure at 0x7f714dc7cbd0>"
      ]
     },
     "metadata": {},
     "output_type": "display_data"
    }
   ],
   "source": [
    "predicted = model.predict(X_test)\n",
    "\n",
    "plt.plot(y_test, color='black', label = 'Test data')\n",
    "plt.plot(predicted, color='blue', label = 'Predicted data')\n",
    "plt.legend(loc='best')\n",
    "plt.title('Actual and predicted from point %d to point %d of test set' % (FROM, TO))\n",
    "plt.show()"
   ]
  },
  {
   "cell_type": "code",
   "execution_count": 22,
   "metadata": {},
   "outputs": [
    {
     "data": {
      "image/svg+xml": [
       "<svg height=\"553pt\" viewBox=\"0.00 0.00 332.00 553.00\" width=\"332pt\" xmlns=\"http://www.w3.org/2000/svg\" xmlns:xlink=\"http://www.w3.org/1999/xlink\">\n",
       "<g class=\"graph\" id=\"graph0\" transform=\"scale(1 1) rotate(0) translate(4 549)\">\n",
       "<title>G</title>\n",
       "<polygon fill=\"white\" points=\"-4,4 -4,-549 328,-549 328,4 -4,4\" stroke=\"none\"/>\n",
       "<!-- 140124981635728 -->\n",
       "<g class=\"node\" id=\"node1\"><title>140124981635728</title>\n",
       "<polygon fill=\"none\" points=\"0,-498.5 0,-544.5 324,-544.5 324,-498.5 0,-498.5\" stroke=\"black\"/>\n",
       "<text font-family=\"Times,serif\" font-size=\"14.00\" text-anchor=\"middle\" x=\"78\" y=\"-517.8\">lstm_1_input: InputLayer</text>\n",
       "<polyline fill=\"none\" points=\"156,-498.5 156,-544.5 \" stroke=\"black\"/>\n",
       "<text font-family=\"Times,serif\" font-size=\"14.00\" text-anchor=\"middle\" x=\"183.5\" y=\"-529.3\">input:</text>\n",
       "<polyline fill=\"none\" points=\"156,-521.5 211,-521.5 \" stroke=\"black\"/>\n",
       "<text font-family=\"Times,serif\" font-size=\"14.00\" text-anchor=\"middle\" x=\"183.5\" y=\"-506.3\">output:</text>\n",
       "<polyline fill=\"none\" points=\"211,-498.5 211,-544.5 \" stroke=\"black\"/>\n",
       "<text font-family=\"Times,serif\" font-size=\"14.00\" text-anchor=\"middle\" x=\"267.5\" y=\"-529.3\">(None, None, 16)</text>\n",
       "<polyline fill=\"none\" points=\"211,-521.5 324,-521.5 \" stroke=\"black\"/>\n",
       "<text font-family=\"Times,serif\" font-size=\"14.00\" text-anchor=\"middle\" x=\"267.5\" y=\"-506.3\">(None, None, 16)</text>\n",
       "</g>\n",
       "<!-- 140125031940752 -->\n",
       "<g class=\"node\" id=\"node2\"><title>140125031940752</title>\n",
       "<polygon fill=\"none\" points=\"26,-415.5 26,-461.5 298,-461.5 298,-415.5 26,-415.5\" stroke=\"black\"/>\n",
       "<text font-family=\"Times,serif\" font-size=\"14.00\" text-anchor=\"middle\" x=\"75\" y=\"-434.8\">lstm_1: LSTM</text>\n",
       "<polyline fill=\"none\" points=\"124,-415.5 124,-461.5 \" stroke=\"black\"/>\n",
       "<text font-family=\"Times,serif\" font-size=\"14.00\" text-anchor=\"middle\" x=\"151.5\" y=\"-446.3\">input:</text>\n",
       "<polyline fill=\"none\" points=\"124,-438.5 179,-438.5 \" stroke=\"black\"/>\n",
       "<text font-family=\"Times,serif\" font-size=\"14.00\" text-anchor=\"middle\" x=\"151.5\" y=\"-423.3\">output:</text>\n",
       "<polyline fill=\"none\" points=\"179,-415.5 179,-461.5 \" stroke=\"black\"/>\n",
       "<text font-family=\"Times,serif\" font-size=\"14.00\" text-anchor=\"middle\" x=\"238.5\" y=\"-446.3\">(None, None, 16)</text>\n",
       "<polyline fill=\"none\" points=\"179,-438.5 298,-438.5 \" stroke=\"black\"/>\n",
       "<text font-family=\"Times,serif\" font-size=\"14.00\" text-anchor=\"middle\" x=\"238.5\" y=\"-423.3\">(None, None, 800)</text>\n",
       "</g>\n",
       "<!-- 140124981635728&#45;&gt;140125031940752 -->\n",
       "<g class=\"edge\" id=\"edge1\"><title>140124981635728-&gt;140125031940752</title>\n",
       "<path d=\"M162,-498.366C162,-490.152 162,-480.658 162,-471.725\" fill=\"none\" stroke=\"black\"/>\n",
       "<polygon fill=\"black\" points=\"165.5,-471.607 162,-461.607 158.5,-471.607 165.5,-471.607\" stroke=\"black\"/>\n",
       "</g>\n",
       "<!-- 140125031941456 -->\n",
       "<g class=\"node\" id=\"node3\"><title>140125031941456</title>\n",
       "<polygon fill=\"none\" points=\"12.5,-332.5 12.5,-378.5 311.5,-378.5 311.5,-332.5 12.5,-332.5\" stroke=\"black\"/>\n",
       "<text font-family=\"Times,serif\" font-size=\"14.00\" text-anchor=\"middle\" x=\"75\" y=\"-351.8\">dropout_1: Dropout</text>\n",
       "<polyline fill=\"none\" points=\"137.5,-332.5 137.5,-378.5 \" stroke=\"black\"/>\n",
       "<text font-family=\"Times,serif\" font-size=\"14.00\" text-anchor=\"middle\" x=\"165\" y=\"-363.3\">input:</text>\n",
       "<polyline fill=\"none\" points=\"137.5,-355.5 192.5,-355.5 \" stroke=\"black\"/>\n",
       "<text font-family=\"Times,serif\" font-size=\"14.00\" text-anchor=\"middle\" x=\"165\" y=\"-340.3\">output:</text>\n",
       "<polyline fill=\"none\" points=\"192.5,-332.5 192.5,-378.5 \" stroke=\"black\"/>\n",
       "<text font-family=\"Times,serif\" font-size=\"14.00\" text-anchor=\"middle\" x=\"252\" y=\"-363.3\">(None, None, 800)</text>\n",
       "<polyline fill=\"none\" points=\"192.5,-355.5 311.5,-355.5 \" stroke=\"black\"/>\n",
       "<text font-family=\"Times,serif\" font-size=\"14.00\" text-anchor=\"middle\" x=\"252\" y=\"-340.3\">(None, None, 800)</text>\n",
       "</g>\n",
       "<!-- 140125031940752&#45;&gt;140125031941456 -->\n",
       "<g class=\"edge\" id=\"edge2\"><title>140125031940752-&gt;140125031941456</title>\n",
       "<path d=\"M162,-415.366C162,-407.152 162,-397.658 162,-388.725\" fill=\"none\" stroke=\"black\"/>\n",
       "<polygon fill=\"black\" points=\"165.5,-388.607 162,-378.607 158.5,-388.607 165.5,-388.607\" stroke=\"black\"/>\n",
       "</g>\n",
       "<!-- 140124981635792 -->\n",
       "<g class=\"node\" id=\"node4\"><title>140124981635792</title>\n",
       "<polygon fill=\"none\" points=\"26,-249.5 26,-295.5 298,-295.5 298,-249.5 26,-249.5\" stroke=\"black\"/>\n",
       "<text font-family=\"Times,serif\" font-size=\"14.00\" text-anchor=\"middle\" x=\"75\" y=\"-268.8\">lstm_2: LSTM</text>\n",
       "<polyline fill=\"none\" points=\"124,-249.5 124,-295.5 \" stroke=\"black\"/>\n",
       "<text font-family=\"Times,serif\" font-size=\"14.00\" text-anchor=\"middle\" x=\"151.5\" y=\"-280.3\">input:</text>\n",
       "<polyline fill=\"none\" points=\"124,-272.5 179,-272.5 \" stroke=\"black\"/>\n",
       "<text font-family=\"Times,serif\" font-size=\"14.00\" text-anchor=\"middle\" x=\"151.5\" y=\"-257.3\">output:</text>\n",
       "<polyline fill=\"none\" points=\"179,-249.5 179,-295.5 \" stroke=\"black\"/>\n",
       "<text font-family=\"Times,serif\" font-size=\"14.00\" text-anchor=\"middle\" x=\"238.5\" y=\"-280.3\">(None, None, 800)</text>\n",
       "<polyline fill=\"none\" points=\"179,-272.5 298,-272.5 \" stroke=\"black\"/>\n",
       "<text font-family=\"Times,serif\" font-size=\"14.00\" text-anchor=\"middle\" x=\"238.5\" y=\"-257.3\">(None, 1600)</text>\n",
       "</g>\n",
       "<!-- 140125031941456&#45;&gt;140124981635792 -->\n",
       "<g class=\"edge\" id=\"edge3\"><title>140125031941456-&gt;140124981635792</title>\n",
       "<path d=\"M162,-332.366C162,-324.152 162,-314.658 162,-305.725\" fill=\"none\" stroke=\"black\"/>\n",
       "<polygon fill=\"black\" points=\"165.5,-305.607 162,-295.607 158.5,-305.607 165.5,-305.607\" stroke=\"black\"/>\n",
       "</g>\n",
       "<!-- 140124947888720 -->\n",
       "<g class=\"node\" id=\"node5\"><title>140124947888720</title>\n",
       "<polygon fill=\"none\" points=\"27.5,-166.5 27.5,-212.5 296.5,-212.5 296.5,-166.5 27.5,-166.5\" stroke=\"black\"/>\n",
       "<text font-family=\"Times,serif\" font-size=\"14.00\" text-anchor=\"middle\" x=\"90\" y=\"-185.8\">dropout_2: Dropout</text>\n",
       "<polyline fill=\"none\" points=\"152.5,-166.5 152.5,-212.5 \" stroke=\"black\"/>\n",
       "<text font-family=\"Times,serif\" font-size=\"14.00\" text-anchor=\"middle\" x=\"180\" y=\"-197.3\">input:</text>\n",
       "<polyline fill=\"none\" points=\"152.5,-189.5 207.5,-189.5 \" stroke=\"black\"/>\n",
       "<text font-family=\"Times,serif\" font-size=\"14.00\" text-anchor=\"middle\" x=\"180\" y=\"-174.3\">output:</text>\n",
       "<polyline fill=\"none\" points=\"207.5,-166.5 207.5,-212.5 \" stroke=\"black\"/>\n",
       "<text font-family=\"Times,serif\" font-size=\"14.00\" text-anchor=\"middle\" x=\"252\" y=\"-197.3\">(None, 1600)</text>\n",
       "<polyline fill=\"none\" points=\"207.5,-189.5 296.5,-189.5 \" stroke=\"black\"/>\n",
       "<text font-family=\"Times,serif\" font-size=\"14.00\" text-anchor=\"middle\" x=\"252\" y=\"-174.3\">(None, 1600)</text>\n",
       "</g>\n",
       "<!-- 140124981635792&#45;&gt;140124947888720 -->\n",
       "<g class=\"edge\" id=\"edge4\"><title>140124981635792-&gt;140124947888720</title>\n",
       "<path d=\"M162,-249.366C162,-241.152 162,-231.658 162,-222.725\" fill=\"none\" stroke=\"black\"/>\n",
       "<polygon fill=\"black\" points=\"165.5,-222.607 162,-212.607 158.5,-222.607 165.5,-222.607\" stroke=\"black\"/>\n",
       "</g>\n",
       "<!-- 140124946650512 -->\n",
       "<g class=\"node\" id=\"node6\"><title>140124946650512</title>\n",
       "<polygon fill=\"none\" points=\"39,-83.5 39,-129.5 285,-129.5 285,-83.5 39,-83.5\" stroke=\"black\"/>\n",
       "<text font-family=\"Times,serif\" font-size=\"14.00\" text-anchor=\"middle\" x=\"90\" y=\"-102.8\">dense_1: Dense</text>\n",
       "<polyline fill=\"none\" points=\"141,-83.5 141,-129.5 \" stroke=\"black\"/>\n",
       "<text font-family=\"Times,serif\" font-size=\"14.00\" text-anchor=\"middle\" x=\"168.5\" y=\"-114.3\">input:</text>\n",
       "<polyline fill=\"none\" points=\"141,-106.5 196,-106.5 \" stroke=\"black\"/>\n",
       "<text font-family=\"Times,serif\" font-size=\"14.00\" text-anchor=\"middle\" x=\"168.5\" y=\"-91.3\">output:</text>\n",
       "<polyline fill=\"none\" points=\"196,-83.5 196,-129.5 \" stroke=\"black\"/>\n",
       "<text font-family=\"Times,serif\" font-size=\"14.00\" text-anchor=\"middle\" x=\"240.5\" y=\"-114.3\">(None, 1600)</text>\n",
       "<polyline fill=\"none\" points=\"196,-106.5 285,-106.5 \" stroke=\"black\"/>\n",
       "<text font-family=\"Times,serif\" font-size=\"14.00\" text-anchor=\"middle\" x=\"240.5\" y=\"-91.3\">(None, 1)</text>\n",
       "</g>\n",
       "<!-- 140124947888720&#45;&gt;140124946650512 -->\n",
       "<g class=\"edge\" id=\"edge5\"><title>140124947888720-&gt;140124946650512</title>\n",
       "<path d=\"M162,-166.366C162,-158.152 162,-148.658 162,-139.725\" fill=\"none\" stroke=\"black\"/>\n",
       "<polygon fill=\"black\" points=\"165.5,-139.607 162,-129.607 158.5,-139.607 165.5,-139.607\" stroke=\"black\"/>\n",
       "</g>\n",
       "<!-- 140124945288720 -->\n",
       "<g class=\"node\" id=\"node7\"><title>140124945288720</title>\n",
       "<polygon fill=\"none\" points=\"26,-0.5 26,-46.5 298,-46.5 298,-0.5 26,-0.5\" stroke=\"black\"/>\n",
       "<text font-family=\"Times,serif\" font-size=\"14.00\" text-anchor=\"middle\" x=\"100\" y=\"-19.8\">activation_1: Activation</text>\n",
       "<polyline fill=\"none\" points=\"174,-0.5 174,-46.5 \" stroke=\"black\"/>\n",
       "<text font-family=\"Times,serif\" font-size=\"14.00\" text-anchor=\"middle\" x=\"201.5\" y=\"-31.3\">input:</text>\n",
       "<polyline fill=\"none\" points=\"174,-23.5 229,-23.5 \" stroke=\"black\"/>\n",
       "<text font-family=\"Times,serif\" font-size=\"14.00\" text-anchor=\"middle\" x=\"201.5\" y=\"-8.3\">output:</text>\n",
       "<polyline fill=\"none\" points=\"229,-0.5 229,-46.5 \" stroke=\"black\"/>\n",
       "<text font-family=\"Times,serif\" font-size=\"14.00\" text-anchor=\"middle\" x=\"263.5\" y=\"-31.3\">(None, 1)</text>\n",
       "<polyline fill=\"none\" points=\"229,-23.5 298,-23.5 \" stroke=\"black\"/>\n",
       "<text font-family=\"Times,serif\" font-size=\"14.00\" text-anchor=\"middle\" x=\"263.5\" y=\"-8.3\">(None, 1)</text>\n",
       "</g>\n",
       "<!-- 140124946650512&#45;&gt;140124945288720 -->\n",
       "<g class=\"edge\" id=\"edge6\"><title>140124946650512-&gt;140124945288720</title>\n",
       "<path d=\"M162,-83.3664C162,-75.1516 162,-65.6579 162,-56.7252\" fill=\"none\" stroke=\"black\"/>\n",
       "<polygon fill=\"black\" points=\"165.5,-56.6068 162,-46.6068 158.5,-56.6069 165.5,-56.6068\" stroke=\"black\"/>\n",
       "</g>\n",
       "</g>\n",
       "</svg>"
      ],
      "text/plain": [
       "<IPython.core.display.SVG object>"
      ]
     },
     "execution_count": 22,
     "metadata": {},
     "output_type": "execute_result"
    }
   ],
   "source": [
    "\n",
    "SVG(model_to_dot(model, show_shapes=True).create(prog='dot', format='svg'))"
   ]
  },
  {
   "cell_type": "code",
   "execution_count": 53,
   "metadata": {},
   "outputs": [
    {
     "data": {
      "image/png": "[encoded data removed]",
      "text/plain": [
       "<matplotlib.figure.Figure at 0x7f714dc7c8d0>"
      ]
     },
     "metadata": {},
     "output_type": "display_data"
    }
   ],
   "source": [
    "#Step 4 - Plot the predictions!\n",
    "predictions = predict_point_by_point(model, X_test)\n",
    "plt.plot(predictions, color='blue', label = 'Predicted data')\n",
    "#plt.legend(loc='best')\n",
    "#plt.title('Actual and predicted from point %d to point %d of test set' % (FROM, TO))\n",
    "plt.show()\n",
    "#plot_results_multiple(predictions, y_test, 50)"
   ]
  },
  {
   "cell_type": "code",
   "execution_count": null,
   "metadata": {
    "collapsed": true
   },
   "outputs": [],
   "source": []
  }
 ],
 "metadata": {
  "kernelspec": {
   "display_name": "Python 2",
   "language": "python",
   "name": "python2"
  },
  "language_info": {
   "codemirror_mode": {
    "name": "ipython",
    "version": 2
   },
   "file_extension": ".py",
   "mimetype": "text/x-python",
   "name": "python",
   "nbconvert_exporter": "python",
   "pygments_lexer": "ipython2",
   "version": "2.7.14"
  }
 },
 "nbformat": 4,
 "nbformat_minor": 2
}
